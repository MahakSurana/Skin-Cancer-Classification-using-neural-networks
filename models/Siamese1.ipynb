{
  "metadata": {
    "kernelspec": {
      "language": "python",
      "display_name": "Python 3",
      "name": "python3"
    },
    "language_info": {
      "name": "python",
      "version": "3.7.9",
      "mimetype": "text/x-python",
      "codemirror_mode": {
        "name": "ipython",
        "version": 3
      },
      "pygments_lexer": "ipython3",
      "nbconvert_exporter": "python",
      "file_extension": ".py"
    },
    "colab": {
      "provenance": []
    }
  },
  "nbformat_minor": 0,
  "nbformat": 4,
  "cells": [
    {
      "cell_type": "markdown",
      "source": [
        "# Importing Libraries"
      ],
      "metadata": {
        "id": "vdLwuYEgFsKh"
      }
    },
    {
      "cell_type": "code",
      "source": [
        "import seaborn as sns\n",
        "import matplotlib.pyplot as plt\n",
        "from imblearn.over_sampling import RandomOverSampler \n",
        "import numpy as np\n",
        "from sklearn.model_selection import train_test_split\n",
        "import os, cv2\n",
        "import tensorflow as tf\n",
        "from tensorflow.keras.models import Sequential\n",
        "from tensorflow.keras.layers import Conv2D, Flatten, Dense, MaxPool2D"
      ],
      "metadata": {
        "execution": {
          "iopub.status.busy": "2023-03-23T02:50:00.618003Z",
          "iopub.execute_input": "2023-03-23T02:50:00.618391Z",
          "iopub.status.idle": "2023-03-23T02:50:07.052014Z",
          "shell.execute_reply.started": "2023-03-23T02:50:00.618313Z",
          "shell.execute_reply": "2023-03-23T02:50:07.051119Z"
        },
        "trusted": true,
        "id": "0ayonl7gFsKj"
      },
      "execution_count": null,
      "outputs": []
    },
    {
      "cell_type": "markdown",
      "source": [
        "# Import Data"
      ],
      "metadata": {
        "id": "v8jS8Gl5FsKk"
      }
    },
    {
      "cell_type": "code",
      "source": [
        "import pandas as pd\n",
        "data = pd.read_csv('/kaggle/input/skin-cancer-mnist-ham10000/hmnist_28_28_RGB.csv')"
      ],
      "metadata": {
        "execution": {
          "iopub.status.busy": "2023-03-23T02:53:33.411398Z",
          "iopub.execute_input": "2023-03-23T02:53:33.411823Z",
          "iopub.status.idle": "2023-03-23T02:53:37.243943Z",
          "shell.execute_reply.started": "2023-03-23T02:53:33.411785Z",
          "shell.execute_reply": "2023-03-23T02:53:37.242730Z"
        },
        "trusted": true,
        "id": "qzmYaOfrFsKk"
      },
      "execution_count": null,
      "outputs": []
    },
    {
      "cell_type": "code",
      "source": [
        "y = data['label']\n",
        "x = data.drop(columns = ['label'])"
      ],
      "metadata": {
        "execution": {
          "iopub.status.busy": "2023-03-23T02:53:38.810954Z",
          "iopub.execute_input": "2023-03-23T02:53:38.811312Z",
          "iopub.status.idle": "2023-03-23T02:53:38.880379Z",
          "shell.execute_reply.started": "2023-03-23T02:53:38.811277Z",
          "shell.execute_reply": "2023-03-23T02:53:38.879568Z"
        },
        "trusted": true,
        "id": "kPMR0_DDFsKl"
      },
      "execution_count": null,
      "outputs": []
    },
    {
      "cell_type": "markdown",
      "source": [
        "# Exploratory Data Analysis (EDA)"
      ],
      "metadata": {
        "id": "kZsjCMhaFsKl"
      }
    },
    {
      "cell_type": "code",
      "source": [
        "tabular_data = pd.read_csv('/kaggle/input/skin-cancer-mnist-ham10000/HAM10000_metadata.csv')\n",
        "tabular_data.head()"
      ],
      "metadata": {
        "execution": {
          "iopub.status.busy": "2023-03-23T02:53:41.154977Z",
          "iopub.execute_input": "2023-03-23T02:53:41.155296Z",
          "iopub.status.idle": "2023-03-23T02:53:41.199613Z",
          "shell.execute_reply.started": "2023-03-23T02:53:41.155264Z",
          "shell.execute_reply": "2023-03-23T02:53:41.198663Z"
        },
        "trusted": true,
        "id": "8NelAMIqFsKl",
        "outputId": "65a4a78a-d903-4cb1-a55d-2509fef4c4d8"
      },
      "execution_count": null,
      "outputs": [
        {
          "execution_count": 4,
          "output_type": "execute_result",
          "data": {
            "text/plain": "     lesion_id      image_id   dx dx_type   age   sex localization\n0  HAM_0000118  ISIC_0027419  bkl   histo  80.0  male        scalp\n1  HAM_0000118  ISIC_0025030  bkl   histo  80.0  male        scalp\n2  HAM_0002730  ISIC_0026769  bkl   histo  80.0  male        scalp\n3  HAM_0002730  ISIC_0025661  bkl   histo  80.0  male        scalp\n4  HAM_0001466  ISIC_0031633  bkl   histo  75.0  male          ear",
            "text/html": "<div>\n<style scoped>\n    .dataframe tbody tr th:only-of-type {\n        vertical-align: middle;\n    }\n\n    .dataframe tbody tr th {\n        vertical-align: top;\n    }\n\n    .dataframe thead th {\n        text-align: right;\n    }\n</style>\n<table border=\"1\" class=\"dataframe\">\n  <thead>\n    <tr style=\"text-align: right;\">\n      <th></th>\n      <th>lesion_id</th>\n      <th>image_id</th>\n      <th>dx</th>\n      <th>dx_type</th>\n      <th>age</th>\n      <th>sex</th>\n      <th>localization</th>\n    </tr>\n  </thead>\n  <tbody>\n    <tr>\n      <th>0</th>\n      <td>HAM_0000118</td>\n      <td>ISIC_0027419</td>\n      <td>bkl</td>\n      <td>histo</td>\n      <td>80.0</td>\n      <td>male</td>\n      <td>scalp</td>\n    </tr>\n    <tr>\n      <th>1</th>\n      <td>HAM_0000118</td>\n      <td>ISIC_0025030</td>\n      <td>bkl</td>\n      <td>histo</td>\n      <td>80.0</td>\n      <td>male</td>\n      <td>scalp</td>\n    </tr>\n    <tr>\n      <th>2</th>\n      <td>HAM_0002730</td>\n      <td>ISIC_0026769</td>\n      <td>bkl</td>\n      <td>histo</td>\n      <td>80.0</td>\n      <td>male</td>\n      <td>scalp</td>\n    </tr>\n    <tr>\n      <th>3</th>\n      <td>HAM_0002730</td>\n      <td>ISIC_0025661</td>\n      <td>bkl</td>\n      <td>histo</td>\n      <td>80.0</td>\n      <td>male</td>\n      <td>scalp</td>\n    </tr>\n    <tr>\n      <th>4</th>\n      <td>HAM_0001466</td>\n      <td>ISIC_0031633</td>\n      <td>bkl</td>\n      <td>histo</td>\n      <td>75.0</td>\n      <td>male</td>\n      <td>ear</td>\n    </tr>\n  </tbody>\n</table>\n</div>"
          },
          "metadata": {}
        }
      ]
    },
    {
      "cell_type": "code",
      "source": [
        "tabular_data[\"dx\"].unique()"
      ],
      "metadata": {
        "execution": {
          "iopub.status.busy": "2023-03-23T02:53:45.313651Z",
          "iopub.execute_input": "2023-03-23T02:53:45.313979Z",
          "iopub.status.idle": "2023-03-23T02:53:45.321981Z",
          "shell.execute_reply.started": "2023-03-23T02:53:45.313949Z",
          "shell.execute_reply": "2023-03-23T02:53:45.321052Z"
        },
        "trusted": true,
        "id": "aEiTQ-AUFsKn",
        "outputId": "88db6fd3-f34e-4c00-a791-f361fd0ce17d"
      },
      "execution_count": null,
      "outputs": [
        {
          "execution_count": 5,
          "output_type": "execute_result",
          "data": {
            "text/plain": "array(['bkl', 'nv', 'df', 'mel', 'vasc', 'bcc', 'akiec'], dtype=object)"
          },
          "metadata": {}
        }
      ]
    },
    {
      "cell_type": "code",
      "source": [
        "classes = {4: ('nv', ' melanocytic nevi'), 6: ('mel', 'melanoma'), 2 :('bkl', 'benign keratosis-like lesions'), 1:('bcc' , ' basal cell carcinoma'), 5: ('vasc', ' pyogenic granulomas and hemorrhage'), 0: ('akiec', 'Actinic keratoses and intraepithelial carcinomae'),  3: ('df', 'dermatofibroma')}"
      ],
      "metadata": {
        "execution": {
          "iopub.status.busy": "2023-03-23T02:53:49.878961Z",
          "iopub.execute_input": "2023-03-23T02:53:49.879360Z",
          "iopub.status.idle": "2023-03-23T02:53:49.884496Z",
          "shell.execute_reply.started": "2023-03-23T02:53:49.879318Z",
          "shell.execute_reply": "2023-03-23T02:53:49.883479Z"
        },
        "trusted": true,
        "id": "XGrbGrStFsKo"
      },
      "execution_count": null,
      "outputs": []
    },
    {
      "cell_type": "code",
      "source": [
        "\"\"\"Frequency Distribution of Classes\"\"\"\n",
        "\n",
        "sns.countplot(x = 'dx', data = tabular_data)\n",
        "plt.xlabel('Disease', size=12)\n",
        "plt.ylabel('Frequency', size=12)\n",
        "plt.title('Frequency Distribution of Classes', size=16)"
      ],
      "metadata": {
        "execution": {
          "iopub.status.busy": "2023-03-23T02:54:13.603105Z",
          "iopub.execute_input": "2023-03-23T02:54:13.603432Z",
          "iopub.status.idle": "2023-03-23T02:54:13.781247Z",
          "shell.execute_reply.started": "2023-03-23T02:54:13.603400Z",
          "shell.execute_reply": "2023-03-23T02:54:13.780452Z"
        },
        "trusted": true,
        "id": "12YtYjFUFsKp",
        "outputId": "b02aaaaf-f381-4c01-f217-0093a6c2ac3f"
      },
      "execution_count": null,
      "outputs": [
        {
          "execution_count": 8,
          "output_type": "execute_result",
          "data": {
            "text/plain": "Text(0.5, 1.0, 'Frequency Distribution of Classes')"
          },
          "metadata": {}
        },
        {
          "output_type": "display_data",
          "data": {
            "text/plain": "<Figure size 432x288 with 1 Axes>",
            "image/png": "[encoded data removed]"
          },
          "metadata": {
            "needs_background": "light"
          }
        }
      ]
    },
    {
      "cell_type": "code",
      "source": [
        "\"\"\"Distribution of Disease over Gender\"\"\"\n",
        "\n",
        "bar, ax = plt.subplots(figsize = (10,10))\n",
        "plt.pie(tabular_data['sex'].value_counts(), labels = tabular_data['sex'].value_counts().index, autopct=\"%.1f%%\")\n",
        "plt.title('Gender of Patient', size=16)"
      ],
      "metadata": {
        "execution": {
          "iopub.status.busy": "2023-03-23T02:54:25.891282Z",
          "iopub.execute_input": "2023-03-23T02:54:25.891640Z",
          "iopub.status.idle": "2023-03-23T02:54:26.022104Z",
          "shell.execute_reply.started": "2023-03-23T02:54:25.891606Z",
          "shell.execute_reply": "2023-03-23T02:54:26.021206Z"
        },
        "trusted": true,
        "id": "XLpdL5UPFsKp",
        "outputId": "11d0e964-b311-4001-82ee-ee7c0edfb621"
      },
      "execution_count": null,
      "outputs": [
        {
          "execution_count": 9,
          "output_type": "execute_result",
          "data": {
            "text/plain": "Text(0.5, 1.0, 'Gender of Patient')"
          },
          "metadata": {}
        },
        {
          "output_type": "display_data",
          "data": {
            "text/plain": "<Figure size 720x720 with 1 Axes>",
            "image/png": "[encoded data removed]"
          },
          "metadata": {}
        }
      ]
    },
    {
      "cell_type": "code",
      "source": [
        "\"\"\"Histogram of Age of Patients\"\"\"\n",
        "\n",
        "bar, ax = plt.subplots(figsize=(10,10))\n",
        "sns.histplot(tabular_data['age'])\n",
        "plt.title('Histogram of Age of Patients', size=16)"
      ],
      "metadata": {
        "execution": {
          "iopub.status.busy": "2023-03-23T02:54:42.809812Z",
          "iopub.execute_input": "2023-03-23T02:54:42.810142Z",
          "iopub.status.idle": "2023-03-23T02:54:43.310926Z",
          "shell.execute_reply.started": "2023-03-23T02:54:42.810111Z",
          "shell.execute_reply": "2023-03-23T02:54:43.309412Z"
        },
        "trusted": true,
        "id": "G8HXQwOkFsKq",
        "outputId": "5e7d2977-e139-4a72-bcda-45b65ee295f3"
      },
      "execution_count": null,
      "outputs": [
        {
          "execution_count": 10,
          "output_type": "execute_result",
          "data": {
            "text/plain": "Text(0.5, 1.0, 'Histogram of Age of Patients')"
          },
          "metadata": {}
        },
        {
          "output_type": "display_data",
          "data": {
            "text/plain": "<Figure size 720x720 with 1 Axes>",
            "image/png": "[encoded data removed]"
          },
          "metadata": {
            "needs_background": "light"
          }
        }
      ]
    },
    {
      "cell_type": "code",
      "source": [
        "\"\"\"Location of disease over Gender\"\"\"\n",
        "\n",
        "value = tabular_data[['localization', 'sex']].value_counts().to_frame()\n",
        "value.reset_index(level=[1,0 ], inplace=True)\n",
        "temp = value.rename(columns = {'localization':'location', 0: 'count'})\n",
        "\n",
        "bar, ax = plt.subplots(figsize = (12, 12))\n",
        "sns.barplot(x = 'location',  y='count', hue = 'sex', data = temp)\n",
        "plt.title('Location of disease over Gender', size = 16)\n",
        "plt.xlabel('Disease', size=12)\n",
        "plt.ylabel('Frequency/Count', size=12)\n",
        "plt.xticks(rotation = 90)"
      ],
      "metadata": {
        "execution": {
          "iopub.status.busy": "2023-03-23T02:55:15.440283Z",
          "iopub.execute_input": "2023-03-23T02:55:15.440660Z",
          "iopub.status.idle": "2023-03-23T02:55:15.977257Z",
          "shell.execute_reply.started": "2023-03-23T02:55:15.440629Z",
          "shell.execute_reply": "2023-03-23T02:55:15.976397Z"
        },
        "trusted": true,
        "id": "YmrNIKkQFsKq",
        "outputId": "74a1b6f6-d7c8-4b84-d599-2850803943e2"
      },
      "execution_count": null,
      "outputs": [
        {
          "execution_count": 11,
          "output_type": "execute_result",
          "data": {
            "text/plain": "(array([ 0,  1,  2,  3,  4,  5,  6,  7,  8,  9, 10, 11, 12, 13, 14]),\n [Text(0, 0, 'back'),\n  Text(1, 0, 'lower extremity'),\n  Text(2, 0, 'trunk'),\n  Text(3, 0, 'upper extremity'),\n  Text(4, 0, 'abdomen'),\n  Text(5, 0, 'face'),\n  Text(6, 0, 'chest'),\n  Text(7, 0, 'foot'),\n  Text(8, 0, 'scalp'),\n  Text(9, 0, 'unknown'),\n  Text(10, 0, 'neck'),\n  Text(11, 0, 'hand'),\n  Text(12, 0, 'genital'),\n  Text(13, 0, 'ear'),\n  Text(14, 0, 'acral')])"
          },
          "metadata": {}
        },
        {
          "output_type": "display_data",
          "data": {
            "text/plain": "<Figure size 864x864 with 1 Axes>",
            "image/png": "[encoded data removed]"
          },
          "metadata": {
            "needs_background": "light"
          }
        }
      ]
    },
    {
      "cell_type": "markdown",
      "source": [
        "# Oversampling\n",
        "**To overcome class imbalace**"
      ],
      "metadata": {
        "id": "wDEsPw6oFsKr"
      }
    },
    {
      "cell_type": "code",
      "source": [
        "oversample = RandomOverSampler()\n",
        "x,y  = oversample.fit_resample(x,y)"
      ],
      "metadata": {
        "execution": {
          "iopub.status.busy": "2023-03-23T02:55:25.111898Z",
          "iopub.execute_input": "2023-03-23T02:55:25.112231Z",
          "iopub.status.idle": "2023-03-23T02:55:27.661815Z",
          "shell.execute_reply.started": "2023-03-23T02:55:25.112199Z",
          "shell.execute_reply": "2023-03-23T02:55:27.660795Z"
        },
        "trusted": true,
        "id": "5F9tTtt_FsKr"
      },
      "execution_count": null,
      "outputs": []
    },
    {
      "cell_type": "code",
      "source": [
        "x = np.array(x).reshape(-1,28,28,3)\n",
        "print('Shape of X :',x.shape)"
      ],
      "metadata": {
        "execution": {
          "iopub.status.busy": "2023-03-23T02:55:28.059253Z",
          "iopub.execute_input": "2023-03-23T02:55:28.059608Z",
          "iopub.status.idle": "2023-03-23T02:55:28.384655Z",
          "shell.execute_reply.started": "2023-03-23T02:55:28.059573Z",
          "shell.execute_reply": "2023-03-23T02:55:28.383695Z"
        },
        "trusted": true,
        "id": "WBe-Q1YbFsKr",
        "outputId": "c40aa982-484b-4660-93f8-f98727e21501"
      },
      "execution_count": null,
      "outputs": [
        {
          "name": "stdout",
          "text": "Shape of X : (46935, 28, 28, 3)\n",
          "output_type": "stream"
        }
      ]
    },
    {
      "cell_type": "code",
      "source": [
        "\"\"\"Standardization and Splitting Data\"\"\"\n",
        "\n",
        "x = (x-np.mean(x))/np.std(x)\n",
        "X_train, X_test, Y_train, Y_test = train_test_split(x,y, test_size=0.2, random_state=1)"
      ],
      "metadata": {
        "execution": {
          "iopub.status.busy": "2023-03-23T02:55:31.242898Z",
          "iopub.execute_input": "2023-03-23T02:55:31.243253Z",
          "iopub.status.idle": "2023-03-23T02:55:33.600285Z",
          "shell.execute_reply.started": "2023-03-23T02:55:31.243216Z",
          "shell.execute_reply": "2023-03-23T02:55:33.599271Z"
        },
        "trusted": true,
        "id": "RMeUiFpqFsKr"
      },
      "execution_count": null,
      "outputs": []
    },
    {
      "cell_type": "markdown",
      "source": [
        "# Model Training"
      ],
      "metadata": {
        "id": "_u-C8bfsFsKr"
      }
    },
    {
      "cell_type": "code",
      "source": [
        "from tensorflow.keras import layers\n",
        "from keras.applications.vgg16 import VGG16\n",
        "# Provided two tensors t1 and t2\n",
        "# Euclidean distance = sqrt(sum(square(t1-t2)))\n",
        "def euclidean_distance(vects):\n",
        "\n",
        "    x, y = vects\n",
        "    sum_square = tf.math.reduce_sum(tf.math.square(x - y), axis=1, keepdims=True)\n",
        "    return tf.math.sqrt(tf.math.maximum(sum_square, tf.keras.backend.epsilon()))\n",
        "\n",
        "\n",
        "input = layers.Input((50, 50, 3))\n",
        "x = tf.keras.layers.BatchNormalization()(input)\n",
        "x = layers.Conv2D(32, (3, 3), activation=\"relu\",padding='same')(input)\n",
        "x = tf.keras.layers.BatchNormalization()(x)\n",
        "x = layers.MaxPooling2D(pool_size=(2, 2),padding='same')(x)\n",
        "x = layers.Conv2D(64, (3, 3), activation=\"relu\",padding='same')(x)\n",
        "x = tf.keras.layers.BatchNormalization()(x)\n",
        "x = layers.MaxPooling2D(pool_size=(2, 2),padding='same')(x)\n",
        "x = layers.Conv2D(128, (3, 3), activation=\"relu\",padding='same')(x)\n",
        "x = tf.keras.layers.BatchNormalization()(x)\n",
        "x = layers.MaxPooling2D(pool_size=(2, 2),padding='same')(x)\n",
        "x = layers.Conv2D(256, (3, 3), activation=\"relu\",padding='same')(x)\n",
        "\n",
        "x = layers.Flatten()(x)\n",
        "x = tf.keras.layers.BatchNormalization()(x)\n",
        "x = layers.Dense(256, activation=\"relu\")(x)\n",
        "\n",
        "embedding_network = keras.Model(input, x)\n",
        "\n",
        "\n",
        "input_1 = layers.Input((50, 50, 3))\n",
        "input_2 = layers.Input((50, 50, 3))\n",
        "\n",
        "# As mentioned above, Siamese Network share weights between\n",
        "# tower networks (sister networks). To allow this, we will use\n",
        "# same embedding network for both tower networks.\n",
        "tower_1 = embedding_network(input_1)\n",
        "tower_2 = embedding_network(input_2)\n",
        "\n",
        "merge_layer = layers.Lambda(euclidean_distance)([tower_1, tower_2])\n",
        "normal_layer = tf.keras.layers.BatchNormalization()(merge_layer)\n",
        "output_layer = layers.Dense(1, activation=\"sigmoid\")(normal_layer)\n",
        "siamese = keras.Model(inputs=[input_1, input_2], outputs=output_layer)\n",
        "model.summary()"
      ],
      "metadata": {
        "execution": {
          "iopub.status.busy": "2023-03-23T02:55:37.781376Z",
          "iopub.execute_input": "2023-03-23T02:55:37.781762Z",
          "iopub.status.idle": "2023-03-23T02:55:40.561413Z",
          "shell.execute_reply.started": "2023-03-23T02:55:37.781727Z",
          "shell.execute_reply": "2023-03-23T02:55:40.560664Z"
        },
        "trusted": true,
        "id": "8HI3bVcJFsKs",
        "outputId": "b7285093-4a76-4823-ef07-3da9f8e38282"
      },
      "execution_count": null,
      "outputs": [
        {
          "name": "stdout",
          "text": "Model: \"sequential\"\n_________________________________________________________________\nLayer (type)                 Output Shape              Param #   \n=================================================================\nconv2d (Conv2D)              (None, 28, 28, 16)        448       \n_________________________________________________________________\nconv2d_1 (Conv2D)            (None, 26, 26, 32)        4640      \n_________________________________________________________________\nmax_pooling2d (MaxPooling2D) (None, 13, 13, 32)        0         \n_________________________________________________________________\nconv2d_2 (Conv2D)            (None, 13, 13, 32)        9248      \n_________________________________________________________________\nconv2d_3 (Conv2D)            (None, 11, 11, 64)        18496     \n_________________________________________________________________\nmax_pooling2d_1 (MaxPooling2 (None, 6, 6, 64)          0         \n_________________________________________________________________\nflatten (Flatten)            (None, 2304)              0         \n_________________________________________________________________\ndense (Dense)                (None, 64)                147520    \n_________________________________________________________________\ndense_1 (Dense)              (None, 32)                2080      \n_________________________________________________________________\ndense_2 (Dense)              (None, 7)                 231       \n=================================================================\nTotal params: 182,663\nTrainable params: 182,663\nNon-trainable params: 0\n_________________________________________________________________\n",
          "output_type": "stream"
        }
      ]
    },
    {
      "cell_type": "code",
      "source": [
        "callback = tf.keras.callbacks.ModelCheckpoint(filepath='best_model.h5',\n",
        "                                                  monitor='val_acc', mode='max',\n",
        "                                                 verbose=1)\n"
      ],
      "metadata": {
        "execution": {
          "iopub.status.busy": "2023-03-23T02:55:46.905669Z",
          "iopub.execute_input": "2023-03-23T02:55:46.906002Z",
          "iopub.status.idle": "2023-03-23T02:55:46.911410Z",
          "shell.execute_reply.started": "2023-03-23T02:55:46.905971Z",
          "shell.execute_reply": "2023-03-23T02:55:46.910424Z"
        },
        "trusted": true,
        "id": "fbje13rPFsKs"
      },
      "execution_count": null,
      "outputs": []
    },
    {
      "cell_type": "code",
      "source": [
        "model.compile(loss = 'sparse_categorical_crossentropy',\n",
        "             optimizer = 'adam',\n",
        "              metrics = ['accuracy'])\n",
        "history = model.fit(X_train,\n",
        "                    Y_train,\n",
        "                    validation_split=0.2,\n",
        "                    batch_size = 128,\n",
        "                    epochs = 200,\n",
        "                    callbacks=[callback])"
      ],
      "metadata": {
        "execution": {
          "iopub.status.busy": "2023-03-23T02:55:51.419885Z",
          "iopub.execute_input": "2023-03-23T02:55:51.420212Z",
          "iopub.status.idle": "2023-03-23T02:56:23.304032Z",
          "shell.execute_reply.started": "2023-03-23T02:55:51.420181Z",
          "shell.execute_reply": "2023-03-23T02:56:23.303127Z"
        },
        "trusted": true,
        "id": "dxdOyKFtFsKs",
        "outputId": "f87522a4-d0c7-4215-cc69-4a56b8a6d473"
      },
      "execution_count": null,
      "outputs": [
        {
          "name": "stdout",
          "text": "Epoch 1/20\n235/235 [==============================] - 5s 8ms/step - loss: 1.4894 - accuracy: 0.3996 - val_loss: 0.9310 - val_accuracy: 0.6478\n\nEpoch 00001: saving model to best_model.h5\nEpoch 2/20\n235/235 [==============================] - 1s 6ms/step - loss: 0.8179 - accuracy: 0.6985 - val_loss: 0.6328 - val_accuracy: 0.7690\n\nEpoch 00002: saving model to best_model.h5\nEpoch 3/20\n235/235 [==============================] - 1s 6ms/step - loss: 0.5477 - accuracy: 0.8014 - val_loss: 0.4784 - val_accuracy: 0.8166\n\nEpoch 00003: saving model to best_model.h5\nEpoch 4/20\n235/235 [==============================] - 1s 6ms/step - loss: 0.3833 - accuracy: 0.8583 - val_loss: 0.3367 - val_accuracy: 0.8746\n\nEpoch 00004: saving model to best_model.h5\nEpoch 5/20\n235/235 [==============================] - 1s 6ms/step - loss: 0.2804 - accuracy: 0.8998 - val_loss: 0.2713 - val_accuracy: 0.9061\n\nEpoch 00005: saving model to best_model.h5\nEpoch 6/20\n235/235 [==============================] - 1s 5ms/step - loss: 0.2178 - accuracy: 0.9228 - val_loss: 0.2418 - val_accuracy: 0.9165\n\nEpoch 00006: saving model to best_model.h5\nEpoch 7/20\n235/235 [==============================] - 1s 5ms/step - loss: 0.1742 - accuracy: 0.9381 - val_loss: 0.2199 - val_accuracy: 0.9241\n\nEpoch 00007: saving model to best_model.h5\nEpoch 8/20\n235/235 [==============================] - 1s 6ms/step - loss: 0.1538 - accuracy: 0.9478 - val_loss: 0.1761 - val_accuracy: 0.9398\n\nEpoch 00008: saving model to best_model.h5\nEpoch 9/20\n235/235 [==============================] - 1s 6ms/step - loss: 0.1267 - accuracy: 0.9557 - val_loss: 0.2037 - val_accuracy: 0.9354\n\nEpoch 00009: saving model to best_model.h5\nEpoch 10/20\n235/235 [==============================] - 1s 6ms/step - loss: 0.1034 - accuracy: 0.9641 - val_loss: 0.1542 - val_accuracy: 0.9507\n\nEpoch 00010: saving model to best_model.h5\nEpoch 11/20\n235/235 [==============================] - 1s 6ms/step - loss: 0.0858 - accuracy: 0.9695 - val_loss: 0.1664 - val_accuracy: 0.9461\n\nEpoch 00011: saving model to best_model.h5\nEpoch 12/20\n235/235 [==============================] - 1s 6ms/step - loss: 0.0737 - accuracy: 0.9744 - val_loss: 0.1474 - val_accuracy: 0.9523\n\nEpoch 00012: saving model to best_model.h5\nEpoch 13/20\n235/235 [==============================] - 1s 6ms/step - loss: 0.0882 - accuracy: 0.9673 - val_loss: 0.1512 - val_accuracy: 0.9571\n\nEpoch 00013: saving model to best_model.h5\nEpoch 14/20\n235/235 [==============================] - 1s 6ms/step - loss: 0.0646 - accuracy: 0.9767 - val_loss: 0.1659 - val_accuracy: 0.9503\n\nEpoch 00014: saving model to best_model.h5\nEpoch 15/20\n235/235 [==============================] - 1s 6ms/step - loss: 0.0536 - accuracy: 0.9824 - val_loss: 0.1481 - val_accuracy: 0.9529\n\nEpoch 00015: saving model to best_model.h5\nEpoch 16/20\n235/235 [==============================] - 1s 6ms/step - loss: 0.0502 - accuracy: 0.9823 - val_loss: 0.1646 - val_accuracy: 0.9535\n\nEpoch 00016: saving model to best_model.h5\nEpoch 17/20\n235/235 [==============================] - 1s 5ms/step - loss: 0.0606 - accuracy: 0.9786 - val_loss: 0.1168 - val_accuracy: 0.9698\n\nEpoch 00017: saving model to best_model.h5\nEpoch 18/20\n235/235 [==============================] - 1s 6ms/step - loss: 0.0263 - accuracy: 0.9917 - val_loss: 0.1484 - val_accuracy: 0.9671\n\nEpoch 00018: saving model to best_model.h5\nEpoch 19/20\n235/235 [==============================] - 1s 6ms/step - loss: 0.0561 - accuracy: 0.9807 - val_loss: 0.1308 - val_accuracy: 0.9727\n\nEpoch 00019: saving model to best_model.h5\nEpoch 20/20\n235/235 [==============================] - 1s 6ms/step - loss: 0.0364 - accuracy: 0.9864 - val_loss: 0.1361 - val_accuracy: 0.9698\n\nEpoch 00020: saving model to best_model.h5\n",
          "output_type": "stream"
        }
      ]
    },
    {
      "cell_type": "markdown",
      "source": [
        "# Plot Accuracy and Loss"
      ],
      "metadata": {
        "id": "gKoJXOL_FsKs"
      }
    },
    {
      "cell_type": "markdown",
      "source": [
        "## Accuracy (training vs validation dataset)"
      ],
      "metadata": {
        "id": "UfaU1yDrFsKt"
      }
    },
    {
      "cell_type": "code",
      "source": [
        "plt.plot(history.history['accuracy'])\n",
        "plt.plot(history.history['val_accuracy'])\n",
        "plt.title('model accuracy')\n",
        "plt.ylabel('accuracy')\n",
        "plt.xlabel('epoch')\n",
        "plt.legend(['train', 'val'], loc='upper left')\n",
        "plt.show()"
      ],
      "metadata": {
        "execution": {
          "iopub.status.busy": "2023-03-23T02:56:50.499188Z",
          "iopub.execute_input": "2023-03-23T02:56:50.499540Z",
          "iopub.status.idle": "2023-03-23T02:56:50.658733Z",
          "shell.execute_reply.started": "2023-03-23T02:56:50.499502Z",
          "shell.execute_reply": "2023-03-23T02:56:50.657752Z"
        },
        "trusted": true,
        "id": "XTnh4mEmFsKt",
        "outputId": "cf514c9d-dc60-415e-d91a-32d14526ad0e"
      },
      "execution_count": null,
      "outputs": [
        {
          "output_type": "display_data",
          "data": {
            "text/plain": "<Figure size 432x288 with 1 Axes>",
            "image/png": "[encoded data removed]"
          },
          "metadata": {
            "needs_background": "light"
          }
        }
      ]
    },
    {
      "cell_type": "markdown",
      "source": [
        "## Loss (training vs validation dataset)"
      ],
      "metadata": {
        "id": "c1ubwwhrFsKt"
      }
    },
    {
      "cell_type": "code",
      "source": [
        "plt.plot(history.history['loss'])\n",
        "plt.plot(history.history['val_loss'])\n",
        "plt.title('model loss')\n",
        "plt.ylabel('loss')\n",
        "plt.xlabel('epoch')\n",
        "plt.legend(['train', 'val'], loc='upper left')\n",
        "plt.show()"
      ],
      "metadata": {
        "execution": {
          "iopub.status.busy": "2023-03-23T02:56:56.905523Z",
          "iopub.execute_input": "2023-03-23T02:56:56.905858Z",
          "iopub.status.idle": "2023-03-23T02:56:57.064513Z",
          "shell.execute_reply.started": "2023-03-23T02:56:56.905827Z",
          "shell.execute_reply": "2023-03-23T02:56:57.063556Z"
        },
        "trusted": true,
        "id": "VXVkZPgxFsKt",
        "outputId": "c3072c27-91b6-49e5-8885-009a43f9ad0a"
      },
      "execution_count": null,
      "outputs": [
        {
          "output_type": "display_data",
          "data": {
            "text/plain": "<Figure size 432x288 with 1 Axes>",
            "image/png": "[encoded data removed]"
          },
          "metadata": {
            "needs_background": "light"
          }
        }
      ]
    },
    {
      "cell_type": "code",
      "source": [
        "model.load_weights('best_model.h5')\n"
      ],
      "metadata": {
        "execution": {
          "iopub.status.busy": "2023-03-23T02:57:00.149167Z",
          "iopub.execute_input": "2023-03-23T02:57:00.149555Z",
          "iopub.status.idle": "2023-03-23T02:57:00.168175Z",
          "shell.execute_reply.started": "2023-03-23T02:57:00.149516Z",
          "shell.execute_reply": "2023-03-23T02:57:00.167258Z"
        },
        "trusted": true,
        "id": "iq0SoaY8FsKt"
      },
      "execution_count": null,
      "outputs": []
    },
    {
      "cell_type": "markdown",
      "source": [
        "# Model Testing"
      ],
      "metadata": {
        "id": "ww3YHWJWFsKu"
      }
    },
    {
      "cell_type": "code",
      "source": [
        "loss, acc = model.evaluate(X_test, Y_test, verbose=2)"
      ],
      "metadata": {
        "execution": {
          "iopub.status.busy": "2023-03-23T02:57:05.044149Z",
          "iopub.execute_input": "2023-03-23T02:57:05.044535Z",
          "iopub.status.idle": "2023-03-23T02:57:05.694003Z",
          "shell.execute_reply.started": "2023-03-23T02:57:05.044494Z",
          "shell.execute_reply": "2023-03-23T02:57:05.693090Z"
        },
        "trusted": true,
        "id": "bVkPCqVFFsKu",
        "outputId": "0c115e07-1472-4df8-dd17-ef7e4fbc786d"
      },
      "execution_count": null,
      "outputs": [
        {
          "name": "stdout",
          "text": "294/294 - 1s - loss: 0.1353 - accuracy: 0.9663\n",
          "output_type": "stream"
        }
      ]
    }
  ]
}